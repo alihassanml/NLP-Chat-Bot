{
 "cells": [
  {
   "cell_type": "code",
   "execution_count": 50,
   "id": "72cd92da-8217-4e9c-aa3f-754852294cf4",
   "metadata": {},
   "outputs": [],
   "source": [
    "import numpy as np\n",
    "import random \n",
    "import nltk\n",
    "import re\n",
    "import warnings\n",
    "warnings.filterwarnings('ignore')\n",
    "import pandas as pd"
   ]
  },
  {
   "cell_type": "code",
   "execution_count": 23,
   "id": "6eb4e71d-1b07-4b82-be15-3afabbef729f",
   "metadata": {},
   "outputs": [],
   "source": [
    "f = open(r'chat.txt')\n",
    "text = f.read()"
   ]
  },
  {
   "cell_type": "code",
   "execution_count": 54,
   "id": "4c565e7b-4355-41a4-9345-c1e0e97d35c1",
   "metadata": {},
   "outputs": [],
   "source": [
    "# # Use To Read text On Google Website\n",
    "# from bs4 import BeautifulSoup\n",
    "# import requests\n",
    "# url = 'https://en.wikipedia.org/wiki/Data_science'\n",
    "# response = requests.get(url)\n",
    "# soup = BeautifulSoup(response.text, 'html.parser')\n",
    "# paragraphs = soup.find_all('p')\n",
    "\n",
    "# full_text = ''\n",
    "# for paragraph in paragraphs:\n",
    "#     full_text += paragraph.text + '\\n'"
   ]
  },
  {
   "cell_type": "code",
   "execution_count": null,
   "id": "45d3f4ce-9510-4788-a941-d49c3a20c0b9",
   "metadata": {},
   "outputs": [],
   "source": []
  },
  {
   "cell_type": "code",
   "execution_count": 24,
   "id": "328e75d3-2d45-41e5-9818-e35a3929eca5",
   "metadata": {},
   "outputs": [],
   "source": [
    "text = text.lower()\n",
    "word_token = nltk.word_tokenize(text)\n",
    "sent_token = nltk.sent_tokenize(text)"
   ]
  },
  {
   "cell_type": "code",
   "execution_count": 31,
   "id": "f176010d-7906-4a25-b375-add2638221c2",
   "metadata": {},
   "outputs": [],
   "source": [
    "# Text Preprocessing"
   ]
  },
  {
   "cell_type": "code",
   "execution_count": 35,
   "id": "a0373040-a25c-4e49-ba66-f25bb80bd3d4",
   "metadata": {},
   "outputs": [],
   "source": [
    "leamer = nltk.stem.WordNetLemmatizer()\n",
    "\n",
    "def leamtizer(token):\n",
    "    return [leamer.lemmatize(tk) for tk in token]\n",
    "\n",
    "import string\n",
    "dict_tokenize = dict((ord(punc),None) for punc in string.punctuation )\n",
    "\n",
    "def lemontokenize(text):\n",
    "    return leamtizer(nltk.word_tokenize(text.lower().translate(dict_tokenize)))"
   ]
  },
  {
   "cell_type": "code",
   "execution_count": null,
   "id": "db0282f2-37c2-42ae-9da5-4725f2d50c8a",
   "metadata": {},
   "outputs": [],
   "source": []
  },
  {
   "cell_type": "code",
   "execution_count": 36,
   "id": "df8c8d7b-3ca3-4f1e-94d7-2b59b124cbb8",
   "metadata": {},
   "outputs": [],
   "source": [
    "greet_input = ('hey','helo','greetings','sup','whats up')\n",
    "greet_response = ['hey','helo','hi there','whats going one','I am glad! you are talking to me']"
   ]
  },
  {
   "cell_type": "code",
   "execution_count": 37,
   "id": "acdf7bc0-9faf-4f16-928b-9a83f5b6f56a",
   "metadata": {},
   "outputs": [],
   "source": [
    "def greta(text):\n",
    "    for word in text.split():\n",
    "        if word.lower() in greet_input:\n",
    "            return random.choice(greet_response)"
   ]
  },
  {
   "cell_type": "code",
   "execution_count": 34,
   "id": "a7f8062b-5958-45c9-8d94-d4cc0d262939",
   "metadata": {},
   "outputs": [],
   "source": [
    "from sklearn.feature_extraction.text import TfidfVectorizer\n",
    "from sklearn.metrics.pairwise import cosine_similarity"
   ]
  },
  {
   "cell_type": "code",
   "execution_count": 59,
   "id": "76920233-b666-4f13-a873-9e010b47ba68",
   "metadata": {},
   "outputs": [],
   "source": [
    "def response(user_input):\n",
    "    robo1_res = \"\"\n",
    "    tfidfvec = TfidfVectorizer(tokenizer=lemontokenize, stop_words='english')\n",
    "    tfidf = tfidfvec.fit_transform(sent_token)\n",
    "    vals = cosine_similarity(tfidf[-1],tfidf)\n",
    "    idx = vals.argsort()[0][-2]\n",
    "    flat = vals.flatten()\n",
    "    flat.sort()\n",
    "    reg_tfidf = flat[-2]\n",
    "    \n",
    "    if reg_tfidf==0:\n",
    "        robo1_res = robo1_res+\"I am sorry I don't understand you\"\n",
    "        return robo1_res\n",
    "    \n",
    "    else:\n",
    "        robo1_res = robo1_res+sent_token[idx]\n",
    "    \n",
    "    return robo1_res"
   ]
  },
  {
   "cell_type": "code",
   "execution_count": null,
   "id": "eb636d39-a31f-470e-8039-310932252ecc",
   "metadata": {},
   "outputs": [
    {
     "name": "stdout",
     "output_type": "stream",
     "text": [
      "Bot: hey me Ali Hassan. Let's have a conversation. If you want to exit just type Buy!\n"
     ]
    },
    {
     "name": "stdout",
     "output_type": "stream",
     "text": [
      " hi\n"
     ]
    },
    {
     "name": "stdout",
     "output_type": "stream",
     "text": [
      "Bot:hi\n"
     ]
    },
    {
     "name": "stdout",
     "output_type": "stream",
     "text": [
      " data science\n"
     ]
    },
    {
     "name": "stdout",
     "output_type": "stream",
     "text": [
      "Bot:what is data scienc\n"
     ]
    },
    {
     "name": "stdout",
     "output_type": "stream",
     "text": [
      " what is data science\n"
     ]
    },
    {
     "name": "stdout",
     "output_type": "stream",
     "text": [
      "Bot:what is data scienc\n"
     ]
    },
    {
     "name": "stdout",
     "output_type": "stream",
     "text": [
      " machine learning\n"
     ]
    },
    {
     "name": "stdout",
     "output_type": "stream",
     "text": [
      "Bot:some more recent chatbots also combine real-time learning with evolutionary algorithms that optimise their ability to communicate based on each conversation held.\n"
     ]
    }
   ],
   "source": [
    "flag =True\n",
    "print(\"Bot: hey me Ali Hassan. Let's have a conversation. If you want to exit just type Buy!\")\n",
    "\n",
    "while flag==True:\n",
    "    user_response = input()\n",
    "    user_response = user_response.lower()\n",
    "    if user_response !='buy':\n",
    "        if user_response==\"thanks\" or user_response=='thank you':\n",
    "            flag = False\n",
    "            print(\"Bot: You are Welcome\")\n",
    "        else:\n",
    "            sent_token.append(user_response)\n",
    "            word_tokens =word_token+nltk.word_tokenize(user_response)\n",
    "            final_words = list(set(word_tokens))\n",
    "            \n",
    "            print(\"Bot:\",end=\"\")\n",
    "            print(response(user_response))\n",
    "            sent_token.remove(user_response)\n",
    "    else:\n",
    "        \n",
    "        flag=False\n",
    "        print('Bot: Ok Good Buy! Take Care')"
   ]
  },
  {
   "cell_type": "code",
   "execution_count": null,
   "id": "b0958d4c-3ce2-4f1a-b6da-02c3552edf54",
   "metadata": {},
   "outputs": [],
   "source": []
  },
  {
   "cell_type": "code",
   "execution_count": null,
   "id": "f42829ef-a2e8-45f5-b873-ddbfcf640a32",
   "metadata": {},
   "outputs": [],
   "source": []
  }
 ],
 "metadata": {
  "kernelspec": {
   "display_name": "Python 3 (ipykernel)",
   "language": "python",
   "name": "python3"
  },
  "language_info": {
   "codemirror_mode": {
    "name": "ipython",
    "version": 3
   },
   "file_extension": ".py",
   "mimetype": "text/x-python",
   "name": "python",
   "nbconvert_exporter": "python",
   "pygments_lexer": "ipython3",
   "version": "3.11.7"
  }
 },
 "nbformat": 4,
 "nbformat_minor": 5
}
